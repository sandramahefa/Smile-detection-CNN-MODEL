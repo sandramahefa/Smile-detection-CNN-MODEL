{
 "cells": [
  {
   "cell_type": "code",
   "execution_count": 1,
   "id": "032679fc",
   "metadata": {},
   "outputs": [],
   "source": [
    "©Sandra Mahefa\n",
    "#pip install opencv-python"
   ]
  },
  {
   "cell_type": "code",
   "execution_count": 32,
   "id": "66dd6a4b",
   "metadata": {},
   "outputs": [],
   "source": [
    "import tensorflow as tf\n",
    "import cv2\n",
    "import matplotlib.pyplot as plt\n",
    "import numpy as np\n",
    "import sklearn.model_selection as model_selection\n",
    "import os"
   ]
  },
  {
   "cell_type": "markdown",
   "id": "bc4a9802",
   "metadata": {},
   "source": [
    "# COLLECT IMAGES DATA "
   ]
  },
  {
   "cell_type": "code",
   "execution_count": 33,
   "id": "842cc2f0",
   "metadata": {},
   "outputs": [
    {
     "data": {
      "text/plain": [
       "1238"
      ]
     },
     "execution_count": 33,
     "metadata": {},
     "output_type": "execute_result"
    }
   ],
   "source": [
    "#count number of image on folder 0\n",
    "cmd = 'ls datasets_smile/train_folder/0 | wc -l'\n",
    "data = os.popen(cmd)\n",
    "output = data.read()\n",
    "n_0 = int(output)\n",
    "n_0"
   ]
  },
  {
   "cell_type": "code",
   "execution_count": 34,
   "id": "e695fa2a",
   "metadata": {},
   "outputs": [
    {
     "name": "stdout",
     "output_type": "stream",
     "text": [
      "length not smile 1238\n"
     ]
    }
   ],
   "source": [
    "#Collect DATA image NOT SMILE\n",
    "train_0 = []\n",
    "ytrain_0 = []\n",
    "for i in range(0,n_0):\n",
    "    ytrain_0.append([1,0])\n",
    "    temp_img = cv2.imread('datasets_smile/train_folder/0/file{}.jpg'.format(2163+i))\n",
    "    train_0.append(temp_img)\n",
    "    \n",
    "print(\"length not smile {}\".format(len(train_0)))\n"
   ]
  },
  {
   "cell_type": "code",
   "execution_count": 35,
   "id": "d7725d9e",
   "metadata": {},
   "outputs": [
    {
     "name": "stdout",
     "output_type": "stream",
     "text": [
      "1561\n"
     ]
    }
   ],
   "source": [
    "#Collect DATA image SMILE\n",
    "\n",
    "cmd = 'ls datasets_smile/train_folder/1 | wc -l'\n",
    "data = os.popen(cmd)\n",
    "output = data.read()\n",
    "n_1 = int(output)\n",
    "#-----\n",
    "train_1 = []\n",
    "ytrain_1 = []\n",
    "for i in range(1,n_1):\n",
    "    ytrain_1.append([0,1])\n",
    "\n",
    "    if i <10:\n",
    "        temp_img = cv2.imread('datasets_smile/train_folder/1/file000{}.jpg'.format(i))\n",
    "        train_1.append(temp_img)\n",
    "    elif i>=10 and i<100:\n",
    "        temp_img = cv2.imread('datasets_smile/train_folder/1/file00{}.jpg'.format(i))\n",
    "        train_1.append(temp_img)\n",
    "    elif i>=100 and i<1000:\n",
    "        temp_img = cv2.imread('datasets_smile/train_folder/1/file0{}.jpg'.format(i))\n",
    "        train_1.append(temp_img)\n",
    "    else:\n",
    "        temp_img = cv2.imread('datasets_smile/train_folder/1/file{}.jpg'.format(i))\n",
    "        train_1.append(temp_img)\n",
    "print(len(train_1))"
   ]
  },
  {
   "cell_type": "code",
   "execution_count": 36,
   "id": "bcf7b855",
   "metadata": {},
   "outputs": [
    {
     "data": {
      "text/plain": [
       "(1238, 64, 64, 3)"
      ]
     },
     "execution_count": 36,
     "metadata": {},
     "output_type": "execute_result"
    }
   ],
   "source": [
    "x = np.array(train_0)\n",
    "x.shape"
   ]
  },
  {
   "cell_type": "code",
   "execution_count": 37,
   "id": "e293ac69",
   "metadata": {},
   "outputs": [
    {
     "data": {
      "text/plain": [
       "(1561, 64, 64, 3)"
      ]
     },
     "execution_count": 37,
     "metadata": {},
     "output_type": "execute_result"
    }
   ],
   "source": [
    "x1 = np.array(train_1)\n",
    "x1.shape"
   ]
  },
  {
   "cell_type": "code",
   "execution_count": 38,
   "id": "08673a67",
   "metadata": {},
   "outputs": [
    {
     "data": {
      "text/plain": [
       "numpy.ndarray"
      ]
     },
     "execution_count": 38,
     "metadata": {},
     "output_type": "execute_result"
    }
   ],
   "source": [
    "#concatenate the two smile and not smile data\n",
    "x_train = train_0 + train_1\n",
    "y_train = ytrain_0 + ytrain_1\n",
    "#transform to np array\n",
    "x_train = np.array(x_train)\n",
    "y_train = np.array(y_train)\n",
    "type(x_train)"
   ]
  },
  {
   "cell_type": "code",
   "execution_count": 39,
   "id": "da7b06ba",
   "metadata": {},
   "outputs": [
    {
     "data": {
      "text/plain": [
       "<function matplotlib.pyplot.plot(*args, scalex=True, scaley=True, data=None, **kwargs)>"
      ]
     },
     "execution_count": 39,
     "metadata": {},
     "output_type": "execute_result"
    },
    {
     "data": {
      "image/png": "[encoded data removed]",
      "text/plain": [
       "<Figure size 432x288 with 1 Axes>"
      ]
     },
     "metadata": {
      "needs_background": "light"
     },
     "output_type": "display_data"
    }
   ],
   "source": [
    "\n",
    "#PLOT ONE IMAGE\n",
    "img = x_train[0]\n",
    "\n",
    "plt.figure()\n",
    "plt.imshow(img)\n",
    "plt.plot"
   ]
  },
  {
   "cell_type": "code",
   "execution_count": 40,
   "id": "fee7f128",
   "metadata": {},
   "outputs": [
    {
     "data": {
      "text/plain": [
       "(2799, 64, 64, 3)"
      ]
     },
     "execution_count": 40,
     "metadata": {},
     "output_type": "execute_result"
    }
   ],
   "source": [
    "x_train.shape"
   ]
  },
  {
   "cell_type": "markdown",
   "id": "de18765e",
   "metadata": {},
   "source": [
    "Split the data with to get a train and test model "
   ]
  },
  {
   "cell_type": "code",
   "execution_count": 41,
   "id": "692d2c5d",
   "metadata": {},
   "outputs": [
    {
     "name": "stdout",
     "output_type": "stream",
     "text": [
      "2239 __ 560\n"
     ]
    }
   ],
   "source": [
    "import sklearn.model_selection as model_selection\n",
    "X_train,X_test ,Y_train,Y_test = model_selection.train_test_split(x_train,y_train,test_size=0.2,random_state=42)\n",
    "print(len(X_train), \"__\",len(X_test))"
   ]
  },
  {
   "cell_type": "markdown",
   "id": "81e881a6",
   "metadata": {},
   "source": [
    "# create the model"
   ]
  },
  {
   "cell_type": "markdown",
   "id": "028871f3",
   "metadata": {},
   "source": [
    "# CNN model"
   ]
  },
  {
   "cell_type": "code",
   "execution_count": 87,
   "id": "ced23acf",
   "metadata": {},
   "outputs": [],
   "source": [
    "cnnModel = tf.keras.models.Sequential()"
   ]
  },
  {
   "cell_type": "code",
   "execution_count": 88,
   "id": "e2d042c8",
   "metadata": {},
   "outputs": [],
   "source": [
    "cnnModel.add(tf.keras.layers.Conv2D(64,(3,3),strides=(1,1),padding=\"valid\",activation=\"relu\",input_shape=(64,64,3)))\n",
    "cnnModel.add(tf.keras.layers.MaxPool2D((2,2)))\n",
    "cnnModel.add(tf.keras.layers.Conv2D(64,3, activation=\"relu\"))\n",
    "cnnModel.add(tf.keras.layers.MaxPool2D((2,2)))\n",
    "cnnModel.add(tf.keras.layers.Conv2D(64,3, activation=\"relu\"))\n",
    "cnnModel.add(tf.keras.layers.MaxPool2D((2,2)))\n",
    "cnnModel.add(tf.keras.layers.Flatten())\n",
    "cnnModel.add(tf.keras.layers.Dense(128, activation='relu'))\n",
    "cnnModel.add(tf.keras.layers.Dense(2, activation= 'softmax'))"
   ]
  },
  {
   "cell_type": "code",
   "execution_count": 89,
   "id": "f9850bef",
   "metadata": {},
   "outputs": [
    {
     "name": "stdout",
     "output_type": "stream",
     "text": [
      "Model: \"sequential_5\"\n",
      "_________________________________________________________________\n",
      " Layer (type)                Output Shape              Param #   \n",
      "=================================================================\n",
      " conv2d_9 (Conv2D)           (None, 62, 62, 64)        1792      \n",
      "                                                                 \n",
      " max_pooling2d_5 (MaxPooling  (None, 31, 31, 64)       0         \n",
      " 2D)                                                             \n",
      "                                                                 \n",
      " conv2d_10 (Conv2D)          (None, 29, 29, 64)        36928     \n",
      "                                                                 \n",
      " max_pooling2d_6 (MaxPooling  (None, 14, 14, 64)       0         \n",
      " 2D)                                                             \n",
      "                                                                 \n",
      " conv2d_11 (Conv2D)          (None, 12, 12, 64)        36928     \n",
      "                                                                 \n",
      " max_pooling2d_7 (MaxPooling  (None, 6, 6, 64)         0         \n",
      " 2D)                                                             \n",
      "                                                                 \n",
      " flatten_4 (Flatten)         (None, 2304)              0         \n",
      "                                                                 \n",
      " dense_11 (Dense)            (None, 128)               295040    \n",
      "                                                                 \n",
      " dense_12 (Dense)            (None, 2)                 258       \n",
      "                                                                 \n",
      "=================================================================\n",
      "Total params: 370,946\n",
      "Trainable params: 370,946\n",
      "Non-trainable params: 0\n",
      "_________________________________________________________________\n"
     ]
    }
   ],
   "source": [
    "cnnModel.summary()"
   ]
  },
  {
   "cell_type": "code",
   "execution_count": 91,
   "id": "d8e6d49d",
   "metadata": {},
   "outputs": [],
   "source": [
    "cnnModel.compile(optimizer='adam',\n",
    "              loss = tf.keras.losses.binary_crossentropy,\n",
    "              metrics=['accuracy']\n",
    "              )"
   ]
  },
  {
   "cell_type": "code",
   "execution_count": 93,
   "id": "b0dcd1ca",
   "metadata": {},
   "outputs": [
    {
     "name": "stdout",
     "output_type": "stream",
     "text": [
      "Epoch 1/50\n",
      "70/70 [==============================] - 10s 143ms/step - loss: 0.0986 - accuracy: 0.9580\n",
      "Epoch 2/50\n",
      "70/70 [==============================] - 10s 144ms/step - loss: 0.0703 - accuracy: 0.9710\n",
      "Epoch 3/50\n",
      "70/70 [==============================] - 10s 144ms/step - loss: 0.0971 - accuracy: 0.9585\n",
      "Epoch 4/50\n",
      "70/70 [==============================] - 10s 146ms/step - loss: 0.1729 - accuracy: 0.9303\n",
      "Epoch 5/50\n",
      "70/70 [==============================] - 10s 145ms/step - loss: 0.1335 - accuracy: 0.9410\n",
      "Epoch 6/50\n",
      "70/70 [==============================] - 10s 144ms/step - loss: 0.0900 - accuracy: 0.9665\n",
      "Epoch 7/50\n",
      "70/70 [==============================] - 10s 146ms/step - loss: 0.1252 - accuracy: 0.9464\n",
      "Epoch 8/50\n",
      "70/70 [==============================] - 10s 149ms/step - loss: 0.0750 - accuracy: 0.9692\n",
      "Epoch 9/50\n",
      "70/70 [==============================] - 11s 152ms/step - loss: 0.0586 - accuracy: 0.9795\n",
      "Epoch 10/50\n",
      "70/70 [==============================] - 10s 146ms/step - loss: 0.0563 - accuracy: 0.9781\n",
      "Epoch 11/50\n",
      "70/70 [==============================] - 10s 144ms/step - loss: 0.0492 - accuracy: 0.9826\n",
      "Epoch 12/50\n",
      "70/70 [==============================] - 10s 144ms/step - loss: 0.0547 - accuracy: 0.9781\n",
      "Epoch 13/50\n",
      "70/70 [==============================] - 10s 145ms/step - loss: 0.0442 - accuracy: 0.9768\n",
      "Epoch 14/50\n",
      "70/70 [==============================] - 10s 144ms/step - loss: 0.0543 - accuracy: 0.9786\n",
      "Epoch 15/50\n",
      "70/70 [==============================] - 10s 144ms/step - loss: 0.0590 - accuracy: 0.9750\n",
      "Epoch 16/50\n",
      "70/70 [==============================] - 10s 145ms/step - loss: 0.0466 - accuracy: 0.9817\n",
      "Epoch 17/50\n",
      "70/70 [==============================] - 10s 145ms/step - loss: 0.1178 - accuracy: 0.9585\n",
      "Epoch 18/50\n",
      "70/70 [==============================] - 10s 146ms/step - loss: 0.0997 - accuracy: 0.9576\n",
      "Epoch 19/50\n",
      "70/70 [==============================] - 10s 144ms/step - loss: 0.0439 - accuracy: 0.9857\n",
      "Epoch 20/50\n",
      "70/70 [==============================] - 10s 145ms/step - loss: 0.0417 - accuracy: 0.9848\n",
      "Epoch 21/50\n",
      "70/70 [==============================] - 10s 144ms/step - loss: 0.0196 - accuracy: 0.9933\n",
      "Epoch 22/50\n",
      "70/70 [==============================] - 10s 145ms/step - loss: 0.0157 - accuracy: 0.9946\n",
      "Epoch 23/50\n",
      "70/70 [==============================] - 10s 146ms/step - loss: 0.0106 - accuracy: 0.9955\n",
      "Epoch 24/50\n",
      "70/70 [==============================] - 10s 144ms/step - loss: 0.0125 - accuracy: 0.9969\n",
      "Epoch 25/50\n",
      "70/70 [==============================] - 10s 144ms/step - loss: 0.0258 - accuracy: 0.9897\n",
      "Epoch 26/50\n",
      "70/70 [==============================] - 10s 144ms/step - loss: 0.0673 - accuracy: 0.9768\n",
      "Epoch 27/50\n",
      "70/70 [==============================] - 10s 144ms/step - loss: 0.0451 - accuracy: 0.9826\n",
      "Epoch 28/50\n",
      "70/70 [==============================] - 10s 145ms/step - loss: 0.0537 - accuracy: 0.9803\n",
      "Epoch 29/50\n",
      "70/70 [==============================] - 10s 146ms/step - loss: 0.1011 - accuracy: 0.9616\n",
      "Epoch 30/50\n",
      "70/70 [==============================] - 10s 144ms/step - loss: 0.0616 - accuracy: 0.9745\n",
      "Epoch 31/50\n",
      "70/70 [==============================] - 10s 143ms/step - loss: 0.0273 - accuracy: 0.9897\n",
      "Epoch 32/50\n",
      "70/70 [==============================] - 10s 144ms/step - loss: 0.0129 - accuracy: 0.9942\n",
      "Epoch 33/50\n",
      "70/70 [==============================] - 10s 144ms/step - loss: 0.0134 - accuracy: 0.9955\n",
      "Epoch 34/50\n",
      "70/70 [==============================] - 10s 145ms/step - loss: 0.0182 - accuracy: 0.9937\n",
      "Epoch 35/50\n",
      "70/70 [==============================] - 10s 144ms/step - loss: 0.0247 - accuracy: 0.9920\n",
      "Epoch 36/50\n",
      "70/70 [==============================] - 10s 144ms/step - loss: 0.0497 - accuracy: 0.9848\n",
      "Epoch 37/50\n",
      "70/70 [==============================] - 10s 143ms/step - loss: 0.0818 - accuracy: 0.9719\n",
      "Epoch 38/50\n",
      "70/70 [==============================] - 10s 144ms/step - loss: 0.0374 - accuracy: 0.9853\n",
      "Epoch 39/50\n",
      "70/70 [==============================] - 10s 148ms/step - loss: 0.0214 - accuracy: 0.9946\n",
      "Epoch 40/50\n",
      "70/70 [==============================] - 11s 152ms/step - loss: 0.0159 - accuracy: 0.9942\n",
      "Epoch 41/50\n",
      "70/70 [==============================] - 11s 154ms/step - loss: 0.0060 - accuracy: 0.9987\n",
      "Epoch 42/50\n",
      "70/70 [==============================] - 11s 152ms/step - loss: 0.0037 - accuracy: 0.9991\n",
      "Epoch 43/50\n",
      "70/70 [==============================] - 11s 155ms/step - loss: 0.0030 - accuracy: 0.9996\n",
      "Epoch 44/50\n",
      "70/70 [==============================] - 12s 167ms/step - loss: 0.0019 - accuracy: 1.0000\n",
      "Epoch 45/50\n",
      "70/70 [==============================] - 10s 146ms/step - loss: 0.0023 - accuracy: 0.9996\n",
      "Epoch 46/50\n",
      "70/70 [==============================] - 10s 142ms/step - loss: 0.0026 - accuracy: 0.9991\n",
      "Epoch 47/50\n",
      "70/70 [==============================] - 10s 140ms/step - loss: 0.0030 - accuracy: 0.9996\n",
      "Epoch 48/50\n",
      "70/70 [==============================] - 10s 141ms/step - loss: 0.0011 - accuracy: 1.0000\n",
      "Epoch 49/50\n",
      "70/70 [==============================] - 10s 141ms/step - loss: 7.2202e-04 - accuracy: 1.0000\n",
      "Epoch 50/50\n",
      "70/70 [==============================] - 10s 143ms/step - loss: 0.0011 - accuracy: 1.0000\n"
     ]
    },
    {
     "data": {
      "text/plain": [
       "<keras.callbacks.History at 0x7f4c84138520>"
      ]
     },
     "execution_count": 93,
     "metadata": {},
     "output_type": "execute_result"
    }
   ],
   "source": [
    "cnnModel.fit(X_train,Y_train,epochs=50)"
   ]
  },
  {
   "cell_type": "code",
   "execution_count": 94,
   "id": "56c0fa85",
   "metadata": {},
   "outputs": [],
   "source": [
    "mocelSave = cnnModel.save('cnnModel.h5')"
   ]
  },
  {
   "cell_type": "code",
   "execution_count": 98,
   "id": "989f7f8a",
   "metadata": {},
   "outputs": [
    {
     "name": "stdout",
     "output_type": "stream",
     "text": [
      "18/18 [==============================] - 1s 35ms/step - loss: 1.6911 - accuracy: 0.8339\n"
     ]
    }
   ],
   "source": [
    "loss,accuracy = cnnModel.evaluate(X_test,Y_test)"
   ]
  },
  {
   "cell_type": "code",
   "execution_count": 100,
   "id": "f1b618d6",
   "metadata": {},
   "outputs": [
    {
     "name": "stdout",
     "output_type": "stream",
     "text": [
      "(1, 64, 64, 3)\n",
      "smile => ) [[1.4425228e-16 1.0000000e+00]]\n",
      "not smile => [[1.000000e+00 4.089832e-31]]\n"
     ]
    }
   ],
   "source": [
    "img = cv2.imread('smile0.jpg')\n",
    "img = np.array([img])\n",
    "#type(img)\n",
    "img2 = cv2.imread('notsmile0.jpg')\n",
    "img2 = np.array([img2])\n",
    "print(img.shape)\n",
    "smile = cnnModel.predict(img)\n",
    "not_smile = cnnModel.predict(img2)\n",
    "print(\"smile => )\", smile)\n",
    "print(\"not smile =>\", not_smile)"
   ]
  }
 ],
 "metadata": {
  "kernelspec": {
   "display_name": "Python 3",
   "language": "python",
   "name": "python3"
  },
  "language_info": {
   "codemirror_mode": {
    "name": "ipython",
    "version": 3
   },
   "file_extension": ".py",
   "mimetype": "text/x-python",
   "name": "python",
   "nbconvert_exporter": "python",
   "pygments_lexer": "ipython3",
   "version": "3.8.8"
  }
 },
 "nbformat": 4,
 "nbformat_minor": 5
}
